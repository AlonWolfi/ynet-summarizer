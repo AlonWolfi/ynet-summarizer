{
 "cells": [
  {
   "cell_type": "code",
   "execution_count": 1,
   "id": "41a72284-0679-40a9-8914-539c8aa24eec",
   "metadata": {},
   "outputs": [],
   "source": [
    "import pandas, numpy"
   ]
  },
  {
   "cell_type": "code",
   "execution_count": 7,
   "id": "186ac8ed-6e8d-49a9-8b39-87e8422ec34b",
   "metadata": {},
   "outputs": [
    {
     "name": "stderr",
     "output_type": "stream",
     "text": [
      "WARNING: Ignoring invalid distribution -cikit-learn (c:\\alon\\anaconda3\\lib\\site-packages)\n",
      "WARNING: Ignoring invalid distribution -cikit-learn (c:\\alon\\anaconda3\\lib\\site-packages)\n",
      "WARNING: Ignoring invalid distribution -cikit-learn (c:\\alon\\anaconda3\\lib\\site-packages)\n",
      "WARNING: Ignoring invalid distribution -cikit-learn (c:\\alon\\anaconda3\\lib\\site-packages)\n",
      "WARNING: Ignoring invalid distribution -cikit-learn (c:\\alon\\anaconda3\\lib\\site-packages)\n",
      "WARNING: Ignoring invalid distribution -cikit-learn (c:\\alon\\anaconda3\\lib\\site-packages)\n",
      "WARNING: You are using pip version 21.1.3; however, version 21.2.4 is available.\n",
      "You should consider upgrading via the 'c:\\alon\\anaconda3\\python.exe -m pip install --upgrade pip' command.\n"
     ]
    }
   ],
   "source": [
    "!pip install -q ynet"
   ]
  },
  {
   "cell_type": "code",
   "execution_count": 8,
   "id": "a4df76cb-dd02-431c-996c-fe5fa6485688",
   "metadata": {},
   "outputs": [],
   "source": [
    "import ynet"
   ]
  },
  {
   "cell_type": "code",
   "execution_count": 14,
   "id": "42a4522c-409e-4e5f-9de7-c74f6f0411eb",
   "metadata": {},
   "outputs": [
    {
     "ename": "IndexError",
     "evalue": "list index out of range",
     "output_type": "error",
     "traceback": [
      "\u001b[1;31m---------------------------------------------------------------------------\u001b[0m",
      "\u001b[1;31mIndexError\u001b[0m                                Traceback (most recent call last)",
      "\u001b[1;32m<ipython-input-14-2c8a804d2cc2>\u001b[0m in \u001b[0;36m<module>\u001b[1;34m\u001b[0m\n\u001b[1;32m----> 1\u001b[1;33m \u001b[0mynet\u001b[0m\u001b[1;33m.\u001b[0m\u001b[0mArticle\u001b[0m\u001b[1;33m(\u001b[0m\u001b[1;34m'https://www.ynet.co.il/news/article/rj6iaie7k'\u001b[0m\u001b[1;33m)\u001b[0m\u001b[1;33m\u001b[0m\u001b[1;33m\u001b[0m\u001b[0m\n\u001b[0m",
      "\u001b[1;32mC:\\Alon\\Anaconda3\\lib\\site-packages\\ynet\\__init__.py\u001b[0m in \u001b[0;36m__init__\u001b[1;34m(self, article_url)\u001b[0m\n\u001b[0;32m     90\u001b[0m         \u001b[0mself\u001b[0m\u001b[1;33m.\u001b[0m\u001b[0marticle_url\u001b[0m \u001b[1;33m=\u001b[0m \u001b[0marticle_url\u001b[0m\u001b[1;33m\u001b[0m\u001b[1;33m\u001b[0m\u001b[0m\n\u001b[0;32m     91\u001b[0m         \u001b[0mparsed_url\u001b[0m \u001b[1;33m=\u001b[0m \u001b[0murlparse\u001b[0m\u001b[1;33m(\u001b[0m\u001b[0marticle_url\u001b[0m\u001b[1;33m)\u001b[0m\u001b[1;33m\u001b[0m\u001b[1;33m\u001b[0m\u001b[0m\n\u001b[1;32m---> 92\u001b[1;33m         \u001b[0mself\u001b[0m\u001b[1;33m.\u001b[0m\u001b[0marticle_id\u001b[0m \u001b[1;33m=\u001b[0m \u001b[0mbasename\u001b[0m\u001b[1;33m(\u001b[0m\u001b[0mparsed_url\u001b[0m\u001b[1;33m.\u001b[0m\u001b[0mpath\u001b[0m\u001b[1;33m)\u001b[0m\u001b[1;33m.\u001b[0m\u001b[0msplit\u001b[0m\u001b[1;33m(\u001b[0m\u001b[1;34m','\u001b[0m\u001b[1;33m)\u001b[0m\u001b[1;33m[\u001b[0m\u001b[1;36m2\u001b[0m\u001b[1;33m]\u001b[0m\u001b[1;33m\u001b[0m\u001b[1;33m\u001b[0m\u001b[0m\n\u001b[0m\u001b[0;32m     93\u001b[0m         \u001b[0mself\u001b[0m\u001b[1;33m.\u001b[0m\u001b[0marticle_uri\u001b[0m \u001b[1;33m=\u001b[0m \u001b[1;34m'{uri.scheme}://{uri.netloc}/'\u001b[0m\u001b[1;33m.\u001b[0m\u001b[0mformat\u001b[0m\u001b[1;33m(\u001b[0m\u001b[0muri\u001b[0m\u001b[1;33m=\u001b[0m\u001b[0mparsed_url\u001b[0m\u001b[1;33m)\u001b[0m\u001b[1;33m\u001b[0m\u001b[1;33m\u001b[0m\u001b[0m\n\u001b[0;32m     94\u001b[0m \u001b[1;33m\u001b[0m\u001b[0m\n",
      "\u001b[1;31mIndexError\u001b[0m: list index out of range"
     ]
    }
   ],
   "source": [
    "ynet.Article('https://www.ynet.co.il/news/article/rj6iaie7k')"
   ]
  },
  {
   "cell_type": "code",
   "execution_count": 15,
   "id": "6d9ab0ad-dee1-42e6-9711-f4a314ba7eb8",
   "metadata": {},
   "outputs": [],
   "source": [
    "import requests"
   ]
  },
  {
   "cell_type": "code",
   "execution_count": 16,
   "id": "8f24cd7c-f45c-4da2-9142-3fcea8db29a7",
   "metadata": {},
   "outputs": [],
   "source": [
    "import bs4"
   ]
  },
  {
   "cell_type": "code",
   "execution_count": 19,
   "id": "428d6562-461e-409a-b625-3fbf5f5a558f",
   "metadata": {},
   "outputs": [],
   "source": [
    "url = 'https://www.ynet.co.il/news/article/rkffcdemf'\n",
    "html = bs4.BeautifulSoup(requests.get(url).content)"
   ]
  },
  {
   "cell_type": "code",
   "execution_count": 35,
   "id": "d202f760-94db-439d-a04b-b201a2ba253e",
   "metadata": {},
   "outputs": [],
   "source": [
    "main_title = html.find_all(attrs={'class' : 'mainTitle'})[0].text.strip('\"')\n",
    "sub_title = html.find_all(attrs={'class' : 'subTitle'})[0].text.strip('\"')\n",
    "content = html.find_all(attrs={'class' : 'public-DraftEditor-content'})[0].text.strip('\"')"
   ]
  },
  {
   "cell_type": "code",
   "execution_count": 39,
   "id": "0ea97a39-d825-444e-b55e-960b4385e0c6",
   "metadata": {},
   "outputs": [],
   "source": [
    "main_title_tokenized = main_title.split()\n",
    "sub_title_tokenized = sub_title.split()\n",
    "content_tokenized = content.split()"
   ]
  },
  {
   "cell_type": "code",
   "execution_count": 42,
   "id": "f544ddb5-437b-4b96-a2d8-16b71a0f27dc",
   "metadata": {},
   "outputs": [
    {
     "data": {
      "text/plain": [
       "['זביידי',\n",
       " 'זחל',\n",
       " 'כחצי',\n",
       " 'שעה',\n",
       " 'במנהרה',\n",
       " 'והציע',\n",
       " 'לברוח',\n",
       " \"לג'נין,\",\n",
       " 'לחלק',\n",
       " 'מהאחרים',\n",
       " 'לא',\n",
       " 'היה',\n",
       " 'כוח']"
      ]
     },
     "execution_count": 42,
     "metadata": {},
     "output_type": "execute_result"
    }
   ],
   "source": [
    "main_title_tokenized"
   ]
  },
  {
   "cell_type": "code",
   "execution_count": 45,
   "id": "1918a36f-d5b5-4c1a-b3dd-934764c92742",
   "metadata": {},
   "outputs": [
    {
     "data": {
      "text/plain": [
       "[3, -1, -1, 9, 80, -1, 102, -1, -1, 107, 17, 86, -1]"
      ]
     },
     "execution_count": 45,
     "metadata": {},
     "output_type": "execute_result"
    }
   ],
   "source": [
    "[(content_tokenized.index(word) if word in content_tokenized else -1) for word in main_title_tokenized]"
   ]
  }
 ],
 "metadata": {
  "kernelspec": {
   "display_name": "Python 3",
   "language": "python",
   "name": "python3"
  },
  "language_info": {
   "codemirror_mode": {
    "name": "ipython",
    "version": 3
   },
   "file_extension": ".py",
   "mimetype": "text/x-python",
   "name": "python",
   "nbconvert_exporter": "python",
   "pygments_lexer": "ipython3",
   "version": "3.7.5"
  }
 },
 "nbformat": 4,
 "nbformat_minor": 5
}
