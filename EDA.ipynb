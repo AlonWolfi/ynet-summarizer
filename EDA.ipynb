{
 "cells": [
  {
   "cell_type": "code",
   "execution_count": 9,
   "id": "41a72284-0679-40a9-8914-539c8aa24eec",
   "metadata": {
    "ExecuteTime": {
     "end_time": "2021-09-22T14:56:59.341989Z",
     "start_time": "2021-09-22T14:56:58.871100Z"
    }
   },
   "outputs": [],
   "source": [
    "import pandas, numpy\n",
    "\n",
    "import ynet\n",
    "\n",
    "import requests\n",
    "\n",
    "import bs4"
   ]
  },
  {
   "cell_type": "code",
   "execution_count": 10,
   "id": "0f62c6cf",
   "metadata": {
    "ExecuteTime": {
     "end_time": "2021-09-22T14:57:03.267673Z",
     "start_time": "2021-09-22T14:57:03.249758Z"
    }
   },
   "outputs": [],
   "source": [
    "valid_topic_ids = ['891-317', '109-185']\n",
    "\n",
    "def _scrape_articles_urls_from_topic(topic_id: str, year: int, month: int):\n",
    "    if year < 2000:\n",
    "        year = 2000 + year if year < 30 else 1900 + year\n",
    "    if month < 10:\n",
    "        month = '0' + str(month)\n",
    "    url = f'https://www.ynet.co.il/home/0,7340,L-4269-{topic_id}-{year}{month}-1,00.html'\n",
    "    html = bs4.BeautifulSoup(requests.get(url).content)\n",
    "    html = html.find_all(attrs={'class': 'ghciArticleIndex1'})[0].find_all('table')[1]\n",
    "\n",
    "    articles_htmls = html.find_all(attrs={'class': 'smallheader'})\n",
    "    articles_urls = ['https://www.ynet.co.il' + article.get('href')\n",
    "                    for article in articles_htmls]\n",
    "    return articles_urls\n",
    "\n",
    "def scrape_articles():\n",
    "    articles_urls = []\n",
    "    for topic_id in valid_topic_ids:\n",
    "        for year in range(2000,2021 + 1):\n",
    "            for month in range(1,12 + 1):\n",
    "                try:\n",
    "                    urls = _scrape_articles_urls_from_topic(topic_id, year, month)\n",
    "                    assert type(urls) == list\n",
    "                    articles_urls += urls\n",
    "                except:\n",
    "                    print(topic_id, year, month, 'failed')\n",
    "                    pass\n",
    "    return list(set(articles_urls))"
   ]
  },
  {
   "cell_type": "code",
   "execution_count": null,
   "id": "a7b89b84",
   "metadata": {
    "ExecuteTime": {
     "start_time": "2021-09-22T14:57:03.590Z"
    }
   },
   "outputs": [
    {
     "name": "stdout",
     "output_type": "stream",
     "text": [
      "891-317 2021 7 failed\n",
      "109-185 2001 8 failed\n",
      "109-185 2002 4 failed\n"
     ]
    }
   ],
   "source": [
    "articles_urls = scrape_articles()"
   ]
  },
  {
   "cell_type": "code",
   "execution_count": null,
   "id": "6c14b072",
   "metadata": {
    "ExecuteTime": {
     "start_time": "2021-09-22T15:00:18.669Z"
    }
   },
   "outputs": [],
   "source": [
    "def save_list(l):\n",
    "    with open('article_ids.txt', 'w') as f:\n",
    "        for item in l:\n",
    "            f.write(\"%s\\n\" % item)\n",
    "save_list(articles_urls)"
   ]
  },
  {
   "cell_type": "code",
   "execution_count": null,
   "id": "428d6562-461e-409a-b625-3fbf5f5a558f",
   "metadata": {
    "ExecuteTime": {
     "start_time": "2021-09-22T15:00:19.366Z"
    }
   },
   "outputs": [],
   "source": [
    "def get_article(article_url: str):\n",
    "    html = bs4.BeautifulSoup(requests.get(url).content)\n",
    "    main_title = html.find_all(attrs={'class' : 'mainTitle'})[0].text.strip('\"')\n",
    "    sub_title = html.find_all(attrs={'class' : 'subTitle'})[0].text.strip('\"')\n",
    "    content = html.find_all(attrs={'class' : 'public-DraftEditor-content'})[0].text.strip('\"')\n",
    "    return pd.Series({\n",
    "        'main_title' : main_title, \n",
    "        'sub_title' : sub_title, \n",
    "        'content' : content\n",
    "    })"
   ]
  },
  {
   "cell_type": "code",
   "execution_count": null,
   "id": "f6628260",
   "metadata": {
    "ExecuteTime": {
     "start_time": "2021-09-22T15:00:31.946Z"
    }
   },
   "outputs": [],
   "source": [
    "urls = pd.Series(articles_urls[:500])\n",
    "data = urls.apply(get_article)"
   ]
  },
  {
   "cell_type": "code",
   "execution_count": null,
   "id": "2c38ead4",
   "metadata": {},
   "outputs": [],
   "source": [
    "content = data['sub_title']\n",
    "titles = data['main_title']"
   ]
  },
  {
   "cell_type": "code",
   "execution_count": null,
   "id": "6ecd0d7f",
   "metadata": {},
   "outputs": [],
   "source": [
    "X = content.str.split()\n",
    "y = titles.str.split()\n",
    "X.sample()"
   ]
  },
  {
   "cell_type": "code",
   "execution_count": null,
   "id": "1d859915",
   "metadata": {},
   "outputs": [],
   "source": []
  },
  {
   "cell_type": "code",
   "execution_count": 45,
   "id": "1918a36f-d5b5-4c1a-b3dd-934764c92742",
   "metadata": {},
   "outputs": [
    {
     "data": {
      "text/plain": [
       "[3, -1, -1, 9, 80, -1, 102, -1, -1, 107, 17, 86, -1]"
      ]
     },
     "execution_count": 45,
     "metadata": {},
     "output_type": "execute_result"
    }
   ],
   "source": [
    "[(content_tokenized.index(word) if word in content_tokenized else -1) for word in main_title_tokenized]"
   ]
  }
 ],
 "metadata": {
  "kernelspec": {
   "display_name": "Python 3",
   "language": "python",
   "name": "python3"
  },
  "language_info": {
   "codemirror_mode": {
    "name": "ipython",
    "version": 3
   },
   "file_extension": ".py",
   "mimetype": "text/x-python",
   "name": "python",
   "nbconvert_exporter": "python",
   "pygments_lexer": "ipython3",
   "version": "3.7.5"
  },
  "toc": {
   "base_numbering": 1,
   "nav_menu": {},
   "number_sections": true,
   "sideBar": true,
   "skip_h1_title": false,
   "title_cell": "Table of Contents",
   "title_sidebar": "Contents",
   "toc_cell": false,
   "toc_position": {},
   "toc_section_display": true,
   "toc_window_display": false
  },
  "varInspector": {
   "cols": {
    "lenName": 16,
    "lenType": 16,
    "lenVar": 40
   },
   "kernels_config": {
    "python": {
     "delete_cmd_postfix": "",
     "delete_cmd_prefix": "del ",
     "library": "var_list.py",
     "varRefreshCmd": "print(var_dic_list())"
    },
    "r": {
     "delete_cmd_postfix": ") ",
     "delete_cmd_prefix": "rm(",
     "library": "var_list.r",
     "varRefreshCmd": "cat(var_dic_list()) "
    }
   },
   "types_to_exclude": [
    "module",
    "function",
    "builtin_function_or_method",
    "instance",
    "_Feature"
   ],
   "window_display": false
  }
 },
 "nbformat": 4,
 "nbformat_minor": 5
}
