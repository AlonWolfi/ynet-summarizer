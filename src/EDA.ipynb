{
  "nbformat": 4,
  "nbformat_minor": 5,
  "metadata": {
    "kernelspec": {
      "display_name": "Python 3",
      "language": "python",
      "name": "python3"
    },
    "language_info": {
      "codemirror_mode": {
        "name": "ipython",
        "version": 3
      },
      "file_extension": ".py",
      "mimetype": "text/x-python",
      "name": "python",
      "nbconvert_exporter": "python",
      "pygments_lexer": "ipython3",
      "version": "3.7.5"
    },
    "toc": {
      "base_numbering": 1,
      "nav_menu": {},
      "number_sections": true,
      "sideBar": true,
      "skip_h1_title": false,
      "title_cell": "Table of Contents",
      "title_sidebar": "Contents",
      "toc_cell": false,
      "toc_position": {},
      "toc_section_display": true,
      "toc_window_display": false
    },
    "varInspector": {
      "cols": {
        "lenName": 16,
        "lenType": 16,
        "lenVar": 40
      },
      "kernels_config": {
        "python": {
          "delete_cmd_postfix": "",
          "delete_cmd_prefix": "del ",
          "library": "var_list.py",
          "varRefreshCmd": "print(var_dic_list())"
        },
        "r": {
          "delete_cmd_postfix": ") ",
          "delete_cmd_prefix": "rm(",
          "library": "var_list.r",
          "varRefreshCmd": "cat(var_dic_list()) "
        }
      },
      "types_to_exclude": [
        "module",
        "function",
        "builtin_function_or_method",
        "instance",
        "_Feature"
      ],
      "window_display": false
    },
    "colab": {
      "name": "EDA.ipynb",
      "provenance": []
    }
  },
  "cells": [
    {
      "cell_type": "code",
      "metadata": {
        "ExecuteTime": {
          "end_time": "2021-09-22T15:32:42.939909Z",
          "start_time": "2021-09-22T15:32:42.934890Z"
        },
        "id": "41a72284-0679-40a9-8914-539c8aa24eec"
      },
      "source": [
        "import pandas as pd, numpy as np\n",
        "import requests\n",
        "\n",
        "import bs4\n",
        "\n",
        "import json"
      ],
      "id": "41a72284-0679-40a9-8914-539c8aa24eec",
      "execution_count": 6,
      "outputs": []
    },
    {
      "cell_type": "code",
      "metadata": {
        "ExecuteTime": {
          "end_time": "2021-09-22T14:57:03.267673Z",
          "start_time": "2021-09-22T14:57:03.249758Z"
        },
        "id": "67349173"
      },
      "source": [
        "valid_topic_ids = ['891-317', '109-185']\n",
        "\n",
        "def _scrape_articles_urls_from_topic(topic_id: str, year: int, month: int):\n",
        "    if year < 2000:\n",
        "        year = 2000 + year if year < 30 else 1900 + year\n",
        "    if month < 10:\n",
        "        month = '0' + str(month)\n",
        "    url = f'https://www.ynet.co.il/home/0,7340,L-4269-{topic_id}-{year}{month}-1,00.html'\n",
        "    html = bs4.BeautifulSoup(requests.get(url).content)\n",
        "    html = html.find_all(attrs={'class': 'ghciArticleIndex1'})[0].find_all('table')[1]\n",
        "\n",
        "    articles_htmls = html.find_all(attrs={'class': 'smallheader'})\n",
        "    articles_urls = ['https://www.ynet.co.il' + article.get('href')\n",
        "                    for article in articles_htmls]\n",
        "    return articles_urls\n",
        "\n",
        "def scrape_articles():\n",
        "    articles_urls = []\n",
        "    for topic_id in valid_topic_ids:\n",
        "        for year in range(2000,2021 + 1):\n",
        "            for month in range(1,12 + 1):\n",
        "                try:\n",
        "                    urls = _scrape_articles_urls_from_topic(topic_id, year, month)\n",
        "                    assert type(urls) == list\n",
        "                    articles_urls += urls\n",
        "                except:\n",
        "                    print(topic_id, year, month, 'failed')\n",
        "                    pass\n",
        "    return list(set(articles_urls))"
      ],
      "id": "67349173",
      "execution_count": 12,
      "outputs": []
    },
    {
      "cell_type": "code",
      "metadata": {
        "ExecuteTime": {
          "end_time": "2021-09-22T15:07:47.497330Z",
          "start_time": "2021-09-22T14:57:03.592951Z"
        },
        "scrolled": true,
        "id": "807b549e"
      },
      "source": [
        ""
      ],
      "id": "807b549e",
      "execution_count": 12,
      "outputs": []
    },
    {
      "cell_type": "code",
      "metadata": {
        "ExecuteTime": {
          "end_time": "2021-09-22T15:08:21.690185Z",
          "start_time": "2021-09-22T15:08:21.643134Z"
        },
        "id": "2cb0997d"
      },
      "source": [
        "def save_list(l):\n",
        "    with open('articles_urls.txt', 'w') as f:\n",
        "        for item in l:\n",
        "            f.write(\"%s\\n\" % item)\n",
        "def read_list(path = 'articles_urls.txt'):\n",
        "    with open(path, 'r+') as f:\n",
        "        lines = f.readlines()\n",
        "    lines = pd.Series(lines).apply(lambda s: s.strip('\\n'))\n",
        "    return lines"
      ],
      "id": "2cb0997d",
      "execution_count": 13,
      "outputs": []
    },
    {
      "cell_type": "code",
      "metadata": {
        "id": "5r-HRgz6ytNU"
      },
      "source": [
        "articles_urls = read_list()"
      ],
      "id": "5r-HRgz6ytNU",
      "execution_count": 14,
      "outputs": []
    },
    {
      "cell_type": "code",
      "metadata": {
        "ExecuteTime": {
          "end_time": "2021-09-22T15:34:42.314031Z",
          "start_time": "2021-09-22T15:34:42.298034Z"
        },
        "id": "013739c4",
        "outputId": "35993a94-088b-459a-a9fb-b90bd309a133",
        "colab": {
          "base_uri": "https://localhost:8080/"
        }
      },
      "source": [
        "articles_urls.head().apply(print)\n",
        "pass"
      ],
      "id": "013739c4",
      "execution_count": 15,
      "outputs": [
        {
          "output_type": "stream",
          "name": "stdout",
          "text": [
            "https://www.ynet.co.il/articles/0,7340,L-5439025,00.html\n",
            "https://www.ynet.co.il/articles/0,7340,L-1401169,00.html\n",
            "https://www.ynet.co.il/articles/0,7340,L-4633999,00.html\n",
            "https://www.ynet.co.il/news/article/r1B28Y00H00\n",
            "https://www.ynet.co.il/articles/0,7340,L-4292071,00.html\n"
          ]
        }
      ]
    },
    {
      "cell_type": "code",
      "metadata": {
        "ExecuteTime": {
          "end_time": "2021-09-22T15:41:42.060034Z",
          "start_time": "2021-09-22T15:41:42.041035Z"
        },
        "id": "428d6562-461e-409a-b625-3fbf5f5a558f"
      },
      "source": [
        "def get_article(article_url: str):\n",
        "    try:\n",
        "        print(article_url)\n",
        "        if article_url.startswith('https'):\n",
        "            article_url = article_url.replace('https', 'http')\n",
        "        html = bs4.BeautifulSoup(requests.post(article_url, timeout=(100.05, 1000)).content)\n",
        "        ld_json = html.find_all(attrs={'type' : 'application/ld+json'})[0]\n",
        "        ld_json = json.loads([l for l in ld_json.children][0])\n",
        "        main_title = ld_json['headline']\n",
        "        sub_title = ld_json['description']\n",
        "        content = ld_json['articleBody']\n",
        "\n",
        "        # main_title = html.find_all(attrs={'class' : 'mainTitle'})[0].text.strip('\"')\n",
        "        # sub_title = html.find_all(attrs={'class' : 'subTitle'})[0].text.strip('\"')\n",
        "        # content = html.find_all(attrs={'class' : 'public-DraftEditor-content'})[0].text.strip('\"')\n",
        "        return pd.Series({\n",
        "            'main_title' : main_title, \n",
        "            'sub_title' : sub_title, \n",
        "            'content' : content\n",
        "        })\n",
        "    except:\n",
        "        print(f'{article_url} failed')\n",
        "        return None"
      ],
      "id": "428d6562-461e-409a-b625-3fbf5f5a558f",
      "execution_count": 19,
      "outputs": []
    },
    {
      "cell_type": "code",
      "metadata": {
        "id": "ceyidVdJyArN"
      },
      "source": [
        "from multiprocessing import Pool\n",
        "\n",
        "def multiprocess(l, f, n_jobs = -1, as_series: bool = False):\n",
        "    with Pool(n_jobs) as p:\n",
        "        output = p.map(f, l)\n",
        "    if as_series:\n",
        "        return pd.Series(output)\n",
        "    else:\n",
        "        return output"
      ],
      "id": "ceyidVdJyArN",
      "execution_count": 20,
      "outputs": []
    },
    {
      "cell_type": "code",
      "metadata": {
        "id": "vVscDTzVygaD",
        "outputId": "3c78e288-25d8-464d-c224-2ef5660e90ed",
        "colab": {
          "base_uri": "https://localhost:8080/",
          "height": 538
        }
      },
      "source": [
        "N_ARTICLES = 100\n",
        "data = pd.DataFrame(multiprocess(\n",
        "    np.random.choice(articles_urls, N_ARTICLES),\n",
        "    get_article,\n",
        "    n_jobs = 5\n",
        "))"
      ],
      "id": "vVscDTzVygaD",
      "execution_count": 24,
      "outputs": [
        {
          "output_type": "stream",
          "name": "stdout",
          "text": [
            "https://www.ynet.co.il/articles/0,7340,L-3122873,00.html\n",
            "https://www.ynet.co.il/articles/0,7340,L-2696876,00.html\n",
            "https://www.ynet.co.il/articles/0,7340,L-2984417,00.html\n",
            "https://www.ynet.co.il/articles/0,7340,L-2810080,00.html\n",
            "https://www.ynet.co.il/articles/0,7340,L-3932531,00.html\n",
            "http://www.ynet.co.il/articles/0,7340,L-3122873,00.html failed\n",
            "http://www.ynet.co.il/articles/0,7340,L-2984417,00.html failed\n",
            "http://www.ynet.co.il/articles/0,7340,L-2696876,00.html failed\n",
            "https://www.ynet.co.il/articles/0,7340,L-2137893,00.html\n",
            "https://www.ynet.co.il/articles/0,7340,L-3108554,00.html\n",
            "https://www.ynet.co.il/articles/0,7340,L-3432197,00.html\n"
          ]
        },
        {
          "output_type": "error",
          "ename": "KeyboardInterrupt",
          "evalue": "ignored",
          "traceback": [
            "\u001b[0;31m---------------------------------------------------------------------------\u001b[0m",
            "\u001b[0;31mKeyboardInterrupt\u001b[0m                         Traceback (most recent call last)",
            "\u001b[0;32m<ipython-input-24-a64f2731c7a9>\u001b[0m in \u001b[0;36m<module>\u001b[0;34m()\u001b[0m\n\u001b[1;32m      3\u001b[0m     \u001b[0mnp\u001b[0m\u001b[0;34m.\u001b[0m\u001b[0mrandom\u001b[0m\u001b[0;34m.\u001b[0m\u001b[0mchoice\u001b[0m\u001b[0;34m(\u001b[0m\u001b[0marticles_urls\u001b[0m\u001b[0;34m,\u001b[0m \u001b[0mN_ARTICLES\u001b[0m\u001b[0;34m)\u001b[0m\u001b[0;34m,\u001b[0m\u001b[0;34m\u001b[0m\u001b[0;34m\u001b[0m\u001b[0m\n\u001b[1;32m      4\u001b[0m     \u001b[0mget_article\u001b[0m\u001b[0;34m,\u001b[0m\u001b[0;34m\u001b[0m\u001b[0;34m\u001b[0m\u001b[0m\n\u001b[0;32m----> 5\u001b[0;31m     \u001b[0mn_jobs\u001b[0m \u001b[0;34m=\u001b[0m \u001b[0;36m5\u001b[0m\u001b[0;34m\u001b[0m\u001b[0;34m\u001b[0m\u001b[0m\n\u001b[0m\u001b[1;32m      6\u001b[0m ))\n",
            "\u001b[0;32m<ipython-input-20-8e49399fe65a>\u001b[0m in \u001b[0;36mmultiprocess\u001b[0;34m(l, f, n_jobs, as_series)\u001b[0m\n\u001b[1;32m      3\u001b[0m \u001b[0;32mdef\u001b[0m \u001b[0mmultiprocess\u001b[0m\u001b[0;34m(\u001b[0m\u001b[0ml\u001b[0m\u001b[0;34m,\u001b[0m \u001b[0mf\u001b[0m\u001b[0;34m,\u001b[0m \u001b[0mn_jobs\u001b[0m \u001b[0;34m=\u001b[0m \u001b[0;34m-\u001b[0m\u001b[0;36m1\u001b[0m\u001b[0;34m,\u001b[0m \u001b[0mas_series\u001b[0m\u001b[0;34m:\u001b[0m \u001b[0mbool\u001b[0m \u001b[0;34m=\u001b[0m \u001b[0;32mTrue\u001b[0m\u001b[0;34m)\u001b[0m\u001b[0;34m:\u001b[0m\u001b[0;34m\u001b[0m\u001b[0;34m\u001b[0m\u001b[0m\n\u001b[1;32m      4\u001b[0m     \u001b[0;32mwith\u001b[0m \u001b[0mPool\u001b[0m\u001b[0;34m(\u001b[0m\u001b[0mn_jobs\u001b[0m\u001b[0;34m)\u001b[0m \u001b[0;32mas\u001b[0m \u001b[0mp\u001b[0m\u001b[0;34m:\u001b[0m\u001b[0;34m\u001b[0m\u001b[0;34m\u001b[0m\u001b[0m\n\u001b[0;32m----> 5\u001b[0;31m         \u001b[0moutput\u001b[0m \u001b[0;34m=\u001b[0m \u001b[0mp\u001b[0m\u001b[0;34m.\u001b[0m\u001b[0mmap\u001b[0m\u001b[0;34m(\u001b[0m\u001b[0mf\u001b[0m\u001b[0;34m,\u001b[0m \u001b[0ml\u001b[0m\u001b[0;34m)\u001b[0m\u001b[0;34m\u001b[0m\u001b[0;34m\u001b[0m\u001b[0m\n\u001b[0m\u001b[1;32m      6\u001b[0m     \u001b[0;32mif\u001b[0m \u001b[0mas_series\u001b[0m\u001b[0;34m:\u001b[0m\u001b[0;34m\u001b[0m\u001b[0;34m\u001b[0m\u001b[0m\n\u001b[1;32m      7\u001b[0m         \u001b[0;32mreturn\u001b[0m \u001b[0mpd\u001b[0m\u001b[0;34m.\u001b[0m\u001b[0mSeries\u001b[0m\u001b[0;34m(\u001b[0m\u001b[0moutput\u001b[0m\u001b[0;34m)\u001b[0m\u001b[0;34m\u001b[0m\u001b[0;34m\u001b[0m\u001b[0m\n",
            "\u001b[0;32m/usr/lib/python3.7/multiprocessing/pool.py\u001b[0m in \u001b[0;36mmap\u001b[0;34m(self, func, iterable, chunksize)\u001b[0m\n\u001b[1;32m    266\u001b[0m         \u001b[0;32min\u001b[0m \u001b[0ma\u001b[0m \u001b[0mlist\u001b[0m \u001b[0mthat\u001b[0m \u001b[0;32mis\u001b[0m \u001b[0mreturned\u001b[0m\u001b[0;34m.\u001b[0m\u001b[0;34m\u001b[0m\u001b[0;34m\u001b[0m\u001b[0m\n\u001b[1;32m    267\u001b[0m         '''\n\u001b[0;32m--> 268\u001b[0;31m         \u001b[0;32mreturn\u001b[0m \u001b[0mself\u001b[0m\u001b[0;34m.\u001b[0m\u001b[0m_map_async\u001b[0m\u001b[0;34m(\u001b[0m\u001b[0mfunc\u001b[0m\u001b[0;34m,\u001b[0m \u001b[0miterable\u001b[0m\u001b[0;34m,\u001b[0m \u001b[0mmapstar\u001b[0m\u001b[0;34m,\u001b[0m \u001b[0mchunksize\u001b[0m\u001b[0;34m)\u001b[0m\u001b[0;34m.\u001b[0m\u001b[0mget\u001b[0m\u001b[0;34m(\u001b[0m\u001b[0;34m)\u001b[0m\u001b[0;34m\u001b[0m\u001b[0;34m\u001b[0m\u001b[0m\n\u001b[0m\u001b[1;32m    269\u001b[0m \u001b[0;34m\u001b[0m\u001b[0m\n\u001b[1;32m    270\u001b[0m     \u001b[0;32mdef\u001b[0m \u001b[0mstarmap\u001b[0m\u001b[0;34m(\u001b[0m\u001b[0mself\u001b[0m\u001b[0;34m,\u001b[0m \u001b[0mfunc\u001b[0m\u001b[0;34m,\u001b[0m \u001b[0miterable\u001b[0m\u001b[0;34m,\u001b[0m \u001b[0mchunksize\u001b[0m\u001b[0;34m=\u001b[0m\u001b[0;32mNone\u001b[0m\u001b[0;34m)\u001b[0m\u001b[0;34m:\u001b[0m\u001b[0;34m\u001b[0m\u001b[0;34m\u001b[0m\u001b[0m\n",
            "\u001b[0;32m/usr/lib/python3.7/multiprocessing/pool.py\u001b[0m in \u001b[0;36mget\u001b[0;34m(self, timeout)\u001b[0m\n\u001b[1;32m    649\u001b[0m \u001b[0;34m\u001b[0m\u001b[0m\n\u001b[1;32m    650\u001b[0m     \u001b[0;32mdef\u001b[0m \u001b[0mget\u001b[0m\u001b[0;34m(\u001b[0m\u001b[0mself\u001b[0m\u001b[0;34m,\u001b[0m \u001b[0mtimeout\u001b[0m\u001b[0;34m=\u001b[0m\u001b[0;32mNone\u001b[0m\u001b[0;34m)\u001b[0m\u001b[0;34m:\u001b[0m\u001b[0;34m\u001b[0m\u001b[0;34m\u001b[0m\u001b[0m\n\u001b[0;32m--> 651\u001b[0;31m         \u001b[0mself\u001b[0m\u001b[0;34m.\u001b[0m\u001b[0mwait\u001b[0m\u001b[0;34m(\u001b[0m\u001b[0mtimeout\u001b[0m\u001b[0;34m)\u001b[0m\u001b[0;34m\u001b[0m\u001b[0;34m\u001b[0m\u001b[0m\n\u001b[0m\u001b[1;32m    652\u001b[0m         \u001b[0;32mif\u001b[0m \u001b[0;32mnot\u001b[0m \u001b[0mself\u001b[0m\u001b[0;34m.\u001b[0m\u001b[0mready\u001b[0m\u001b[0;34m(\u001b[0m\u001b[0;34m)\u001b[0m\u001b[0;34m:\u001b[0m\u001b[0;34m\u001b[0m\u001b[0;34m\u001b[0m\u001b[0m\n\u001b[1;32m    653\u001b[0m             \u001b[0;32mraise\u001b[0m \u001b[0mTimeoutError\u001b[0m\u001b[0;34m\u001b[0m\u001b[0;34m\u001b[0m\u001b[0m\n",
            "\u001b[0;32m/usr/lib/python3.7/multiprocessing/pool.py\u001b[0m in \u001b[0;36mwait\u001b[0;34m(self, timeout)\u001b[0m\n\u001b[1;32m    646\u001b[0m \u001b[0;34m\u001b[0m\u001b[0m\n\u001b[1;32m    647\u001b[0m     \u001b[0;32mdef\u001b[0m \u001b[0mwait\u001b[0m\u001b[0;34m(\u001b[0m\u001b[0mself\u001b[0m\u001b[0;34m,\u001b[0m \u001b[0mtimeout\u001b[0m\u001b[0;34m=\u001b[0m\u001b[0;32mNone\u001b[0m\u001b[0;34m)\u001b[0m\u001b[0;34m:\u001b[0m\u001b[0;34m\u001b[0m\u001b[0;34m\u001b[0m\u001b[0m\n\u001b[0;32m--> 648\u001b[0;31m         \u001b[0mself\u001b[0m\u001b[0;34m.\u001b[0m\u001b[0m_event\u001b[0m\u001b[0;34m.\u001b[0m\u001b[0mwait\u001b[0m\u001b[0;34m(\u001b[0m\u001b[0mtimeout\u001b[0m\u001b[0;34m)\u001b[0m\u001b[0;34m\u001b[0m\u001b[0;34m\u001b[0m\u001b[0m\n\u001b[0m\u001b[1;32m    649\u001b[0m \u001b[0;34m\u001b[0m\u001b[0m\n\u001b[1;32m    650\u001b[0m     \u001b[0;32mdef\u001b[0m \u001b[0mget\u001b[0m\u001b[0;34m(\u001b[0m\u001b[0mself\u001b[0m\u001b[0;34m,\u001b[0m \u001b[0mtimeout\u001b[0m\u001b[0;34m=\u001b[0m\u001b[0;32mNone\u001b[0m\u001b[0;34m)\u001b[0m\u001b[0;34m:\u001b[0m\u001b[0;34m\u001b[0m\u001b[0;34m\u001b[0m\u001b[0m\n",
            "\u001b[0;32m/usr/lib/python3.7/threading.py\u001b[0m in \u001b[0;36mwait\u001b[0;34m(self, timeout)\u001b[0m\n\u001b[1;32m    550\u001b[0m             \u001b[0msignaled\u001b[0m \u001b[0;34m=\u001b[0m \u001b[0mself\u001b[0m\u001b[0;34m.\u001b[0m\u001b[0m_flag\u001b[0m\u001b[0;34m\u001b[0m\u001b[0;34m\u001b[0m\u001b[0m\n\u001b[1;32m    551\u001b[0m             \u001b[0;32mif\u001b[0m \u001b[0;32mnot\u001b[0m \u001b[0msignaled\u001b[0m\u001b[0;34m:\u001b[0m\u001b[0;34m\u001b[0m\u001b[0;34m\u001b[0m\u001b[0m\n\u001b[0;32m--> 552\u001b[0;31m                 \u001b[0msignaled\u001b[0m \u001b[0;34m=\u001b[0m \u001b[0mself\u001b[0m\u001b[0;34m.\u001b[0m\u001b[0m_cond\u001b[0m\u001b[0;34m.\u001b[0m\u001b[0mwait\u001b[0m\u001b[0;34m(\u001b[0m\u001b[0mtimeout\u001b[0m\u001b[0;34m)\u001b[0m\u001b[0;34m\u001b[0m\u001b[0;34m\u001b[0m\u001b[0m\n\u001b[0m\u001b[1;32m    553\u001b[0m             \u001b[0;32mreturn\u001b[0m \u001b[0msignaled\u001b[0m\u001b[0;34m\u001b[0m\u001b[0;34m\u001b[0m\u001b[0m\n\u001b[1;32m    554\u001b[0m \u001b[0;34m\u001b[0m\u001b[0m\n",
            "\u001b[0;32m/usr/lib/python3.7/threading.py\u001b[0m in \u001b[0;36mwait\u001b[0;34m(self, timeout)\u001b[0m\n\u001b[1;32m    294\u001b[0m         \u001b[0;32mtry\u001b[0m\u001b[0;34m:\u001b[0m    \u001b[0;31m# restore state no matter what (e.g., KeyboardInterrupt)\u001b[0m\u001b[0;34m\u001b[0m\u001b[0;34m\u001b[0m\u001b[0m\n\u001b[1;32m    295\u001b[0m             \u001b[0;32mif\u001b[0m \u001b[0mtimeout\u001b[0m \u001b[0;32mis\u001b[0m \u001b[0;32mNone\u001b[0m\u001b[0;34m:\u001b[0m\u001b[0;34m\u001b[0m\u001b[0;34m\u001b[0m\u001b[0m\n\u001b[0;32m--> 296\u001b[0;31m                 \u001b[0mwaiter\u001b[0m\u001b[0;34m.\u001b[0m\u001b[0macquire\u001b[0m\u001b[0;34m(\u001b[0m\u001b[0;34m)\u001b[0m\u001b[0;34m\u001b[0m\u001b[0;34m\u001b[0m\u001b[0m\n\u001b[0m\u001b[1;32m    297\u001b[0m                 \u001b[0mgotit\u001b[0m \u001b[0;34m=\u001b[0m \u001b[0;32mTrue\u001b[0m\u001b[0;34m\u001b[0m\u001b[0;34m\u001b[0m\u001b[0m\n\u001b[1;32m    298\u001b[0m             \u001b[0;32melse\u001b[0m\u001b[0;34m:\u001b[0m\u001b[0;34m\u001b[0m\u001b[0;34m\u001b[0m\u001b[0m\n",
            "\u001b[0;31mKeyboardInterrupt\u001b[0m: "
          ]
        }
      ]
    },
    {
      "cell_type": "code",
      "metadata": {
        "id": "K-FGwpQ9zU20",
        "outputId": "964f2b07-13d9-43fa-959c-cb1114204ddd",
        "colab": {
          "base_uri": "https://localhost:8080/"
        }
      },
      "source": [
        "data"
      ],
      "id": "K-FGwpQ9zU20",
      "execution_count": 23,
      "outputs": [
        {
          "output_type": "execute_result",
          "data": {
            "text/plain": [
              "0                                                  None\n",
              "1     main_title                         השר ישראל כ...\n",
              "2     main_title               השר אריאל: נפחית התמי...\n",
              "3                                                  None\n",
              "4     main_title       בקואליציה בוחנים: פתיחת התאגי...\n",
              "                            ...                        \n",
              "95    main_title                  השר לפיד: \"הממשלה ...\n",
              "96    main_title          יחימוביץ' על איראן: לא צרי...\n",
              "97    main_title              מכתבי הפיטורים: \"ככה פ...\n",
              "98                                                 None\n",
              "99    main_title       \"הנהג התעסק בקופסה השחורה כשג...\n",
              "Length: 100, dtype: object"
            ]
          },
          "metadata": {},
          "execution_count": 23
        }
      ]
    },
    {
      "cell_type": "code",
      "metadata": {
        "ExecuteTime": {
          "end_time": "2021-09-22T15:43:37.275118Z",
          "start_time": "2021-09-22T15:43:37.257112Z"
        },
        "id": "60f28703"
      },
      "source": [
        "content = data['sub_title']\n",
        "titles = data['main_title']"
      ],
      "id": "60f28703",
      "execution_count": null,
      "outputs": []
    },
    {
      "cell_type": "code",
      "metadata": {
        "ExecuteTime": {
          "end_time": "2021-09-22T15:39:12.695244Z",
          "start_time": "2021-09-22T15:39:12.670903Z"
        },
        "id": "e4361371",
        "outputId": "5f88bf75-9d6f-491d-ff3c-3420dac8f2fe"
      },
      "source": [
        "X = content.str.split()\n",
        "y = titles.str.split()\n",
        "X.sample()"
      ],
      "id": "e4361371",
      "execution_count": null,
      "outputs": [
        {
          "data": {
            "text/plain": [
              "2    [פרסום, ראשון:, הוועדה, למינוי, בכירים, אישרה,...\n",
              "Name: sub_title, dtype: object"
            ]
          },
          "execution_count": 118,
          "metadata": {},
          "output_type": "execute_result"
        }
      ]
    },
    {
      "cell_type": "code",
      "metadata": {
        "ExecuteTime": {
          "end_time": "2021-09-22T15:47:35.270754Z",
          "start_time": "2021-09-22T15:47:35.240799Z"
        },
        "id": "1918a36f-d5b5-4c1a-b3dd-934764c92742",
        "outputId": "b43b511d-7029-4be8-f5f1-78dcc07ce4a2"
      },
      "source": [
        "data.apply(lambda r: [(r['content'].split().index(word) if word in r['content'].split() else -1) for word in r['sub_title'].split()], axis = 1)"
      ],
      "id": "1918a36f-d5b5-4c1a-b3dd-934764c92742",
      "execution_count": null,
      "outputs": [
        {
          "data": {
            "text/plain": [
              "0    [259, 11, 261, 15, 16, -1, 3, 4, 23, 24, 25, 2...\n",
              "1    [-1, -1, 169, 19, -1, 40, 42, 43, -1, 16, -1, ...\n",
              "2    [-1, -1, 195, 9, 19, 22, 23, 26, 27, 28, 29, 3...\n",
              "3    [-1, 375, 376, 16, 264, -1, -1, 61, 0, 1, -1, ...\n",
              "4    [5, 6, -1, 127, 128, -1, 12, -1, -1, 162, -1, ...\n",
              "dtype: object"
            ]
          },
          "execution_count": 143,
          "metadata": {},
          "output_type": "execute_result"
        }
      ]
    }
  ]
}